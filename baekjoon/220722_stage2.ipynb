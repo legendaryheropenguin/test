{
 "cells": [
  {
   "cell_type": "code",
   "execution_count": 2,
   "id": "7d13f6b8",
   "metadata": {},
   "outputs": [
    {
     "name": "stdout",
     "output_type": "stream",
     "text": [
      "1 2\n",
      "<\n"
     ]
    }
   ],
   "source": [
    "A, B = map(int, input().split())\n",
    "if (-10000 <= A <= 10000) & (-10000 <= B <= 10000):\n",
    "    if A > B: print('>')\n",
    "    elif A < B: print('<')\n",
    "    elif A == B: print('==')"
   ]
  },
  {
   "cell_type": "code",
   "execution_count": 3,
   "id": "e133c26b",
   "metadata": {},
   "outputs": [
    {
     "name": "stdout",
     "output_type": "stream",
     "text": [
      "50\n",
      "F\n"
     ]
    }
   ],
   "source": [
    "score = int(input())\n",
    "if 0 <= score <= 100:\n",
    "    if score >= 90: print('A')\n",
    "    elif score >= 80: print('B')\n",
    "    elif score >= 70: print('C')\n",
    "    elif score >= 60: print('D')\n",
    "    else: print('F')"
   ]
  },
  {
   "cell_type": "code",
   "execution_count": 7,
   "id": "efc8b8c6",
   "metadata": {},
   "outputs": [
    {
     "name": "stdout",
     "output_type": "stream",
     "text": [
      "2012\n",
      "1\n"
     ]
    }
   ],
   "source": [
    "year = int(input())\n",
    "if 1 <= year <= 4000:\n",
    "    if year % 4 == 0:\n",
    "        if year % 400 == 0: print(1)\n",
    "        elif year % 100 != 0: print(1)\n",
    "        else: print(0)\n",
    "    else: print(0)\n",
    "else: print(0)"
   ]
  },
  {
   "cell_type": "code",
   "execution_count": 8,
   "id": "d3f7062d",
   "metadata": {},
   "outputs": [
    {
     "name": "stdout",
     "output_type": "stream",
     "text": [
      "1\n",
      "2\n",
      "1\n"
     ]
    }
   ],
   "source": [
    "x = int(input())\n",
    "y = int(input())\n",
    "if (-1000 <= x <= 1000) & (-1000 <= y <= 1000) & (x != 0) & (y != 0):\n",
    "    if x > 0 and y > 0: print(1)\n",
    "    elif x < 0 and y > 0: print(2)\n",
    "    elif x < 0 and y < 0: print(3)\n",
    "    elif x > 0 and y < 0: print(4)"
   ]
  },
  {
   "cell_type": "code",
   "execution_count": 11,
   "id": "a29fa357",
   "metadata": {},
   "outputs": [
    {
     "name": "stdout",
     "output_type": "stream",
     "text": [
      "23 40\n",
      "22 55\n"
     ]
    }
   ],
   "source": [
    "H, M = map(int, input().split())\n",
    "if (0 <= H <= 23) & (0 <= M <= 59):\n",
    "    if M >= 45: print(f'{H} {M-45}')\n",
    "    elif H > 0: print(f'{H-1} {M+15}')\n",
    "    else: print(f'23 {M+15}')"
   ]
  },
  {
   "cell_type": "code",
   "execution_count": 14,
   "id": "5fa4d029",
   "metadata": {},
   "outputs": [
    {
     "name": "stdout",
     "output_type": "stream",
     "text": [
      "23 48\n",
      "25\n",
      "0 13\n"
     ]
    }
   ],
   "source": [
    "A, B = map(int, input().split())\n",
    "C = int(input())\n",
    "if (0<=A<=23) & (0<=B<=59) & (0<=C<=1000):\n",
    "    num = A*60 + B + C\n",
    "    num = num % 1440\n",
    "    print(f'{num // 60} {num % 60}')"
   ]
  },
  {
   "cell_type": "code",
   "execution_count": 19,
   "id": "3cefde5f",
   "metadata": {},
   "outputs": [
    {
     "name": "stdout",
     "output_type": "stream",
     "text": [
      "6 2 5\n",
      "600\n"
     ]
    }
   ],
   "source": [
    "a, b, c = map(int, input().split())\n",
    "if (1<=a<=6) & (1<=b<=6) & (1<=c<=6):\n",
    "    if a == b and b == c: print(10000+a*1000)\n",
    "    elif a == b and b != c: print(1000+a*100)\n",
    "    elif a == c and a != b: print(1000+a*100)\n",
    "    elif b == c and a != b: print(1000+b*100)\n",
    "    else: print(max(a, b, c)*100)"
   ]
  }
 ],
 "metadata": {
  "kernelspec": {
   "display_name": "Python 3 (ipykernel)",
   "language": "python",
   "name": "python3"
  },
  "language_info": {
   "codemirror_mode": {
    "name": "ipython",
    "version": 3
   },
   "file_extension": ".py",
   "mimetype": "text/x-python",
   "name": "python",
   "nbconvert_exporter": "python",
   "pygments_lexer": "ipython3",
   "version": "3.9.12"
  }
 },
 "nbformat": 4,
 "nbformat_minor": 5
}
