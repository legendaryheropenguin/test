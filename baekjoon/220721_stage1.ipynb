{
 "cells": [
  {
   "cell_type": "code",
   "execution_count": 1,
   "id": "295dc753",
   "metadata": {},
   "outputs": [
    {
     "name": "stdout",
     "output_type": "stream",
     "text": [
      "1 2\n",
      "3\n"
     ]
    }
   ],
   "source": [
    "A, B = input().split()\n",
    "A = int(A)\n",
    "B = int(B)\n",
    "if A > 0 and B < 10: print(A+B)"
   ]
  },
  {
   "cell_type": "code",
   "execution_count": 2,
   "id": "332dde6b",
   "metadata": {},
   "outputs": [
    {
     "name": "stdout",
     "output_type": "stream",
     "text": [
      "1 2\n",
      "-1\n"
     ]
    }
   ],
   "source": [
    "A, B = map(int, input().split())\n",
    "if A > 0 and B < 10: print(A-B)"
   ]
  },
  {
   "cell_type": "code",
   "execution_count": 3,
   "id": "7060aed8",
   "metadata": {},
   "outputs": [
    {
     "name": "stdout",
     "output_type": "stream",
     "text": [
      "1 2\n",
      "2\n"
     ]
    }
   ],
   "source": [
    "A, B = map(int, input().split())\n",
    "if A > 0 and B < 10: print(A*B)"
   ]
  },
  {
   "cell_type": "code",
   "execution_count": 4,
   "id": "04235440",
   "metadata": {},
   "outputs": [
    {
     "name": "stdout",
     "output_type": "stream",
     "text": [
      "1 2\n",
      "0.5\n"
     ]
    }
   ],
   "source": [
    "A, B = map(int, input().split())\n",
    "if A > 0 and B < 10: print(A/B)"
   ]
  },
  {
   "cell_type": "code",
   "execution_count": 5,
   "id": "af4da44c",
   "metadata": {},
   "outputs": [
    {
     "name": "stdout",
     "output_type": "stream",
     "text": [
      "1 2\n",
      "3\n",
      "-1\n",
      "2\n",
      "0\n",
      "1\n"
     ]
    }
   ],
   "source": [
    "A, B = map(int, input().split())\n",
    "if A >= 1 and B <= 10000:\n",
    "    print(A+B)\n",
    "    print(A-B)\n",
    "    print(A*B)\n",
    "    print(A//B)\n",
    "    print(A%B)"
   ]
  },
  {
   "cell_type": "code",
   "execution_count": 25,
   "id": "d6ac5c7b",
   "metadata": {},
   "outputs": [
    {
     "name": "stdout",
     "output_type": "stream",
     "text": [
      "HyPeR\n",
      "hyper??!\n"
     ]
    }
   ],
   "source": [
    "a = input().lower()\n",
    "if len(a) <= 50: print(a + '??!')"
   ]
  },
  {
   "cell_type": "code",
   "execution_count": 28,
   "id": "205f6e18",
   "metadata": {},
   "outputs": [
    {
     "name": "stdout",
     "output_type": "stream",
     "text": [
      "2541\n",
      "1998\n"
     ]
    }
   ],
   "source": [
    "y = int(input())\n",
    "if y >= 1000 and y <= 3000: print(y - 543) "
   ]
  },
  {
   "cell_type": "code",
   "execution_count": 46,
   "id": "e2c54805",
   "metadata": {},
   "outputs": [
    {
     "name": "stdout",
     "output_type": "stream",
     "text": [
      "125 1259 8225\n",
      "1384\n",
      "1384\n",
      "1100\n",
      "1100\n"
     ]
    }
   ],
   "source": [
    "A, B, C = map(int, input().split())\n",
    "if (2 <= A <= 10000) & (2 <= B <= 10000) & (2 <= C <= 10000):\n",
    "    print((A + B ) % C)\n",
    "    print(((A % C) + (B % C)) % C)\n",
    "    print((A * B) % C)\n",
    "    print(((A % C) * (B % C)) % C)"
   ]
  },
  {
   "cell_type": "code",
   "execution_count": 75,
   "id": "edf85f40",
   "metadata": {},
   "outputs": [
    {
     "name": "stdout",
     "output_type": "stream",
     "text": [
      "472\n",
      "385\n",
      "2360\n",
      "3776\n",
      "1416\n",
      "181720\n"
     ]
    }
   ],
   "source": [
    "A = input()\n",
    "B = input()\n",
    "if ((len(A) & len(B)) == 3) & (int(A) > 0) & (int(B) > 0):\n",
    "    print(int(A) * int(B[2]))\n",
    "    print(int(A) * int(B[1]))\n",
    "    print(int(A) * int(B[0]))\n",
    "    print(int(A) * int(B))"
   ]
  },
  {
   "cell_type": "code",
   "execution_count": 80,
   "id": "a7934eac",
   "metadata": {},
   "outputs": [
    {
     "name": "stdout",
     "output_type": "stream",
     "text": [
      "         ,r'\"7\n",
      "r`-_   ,'  ,/\n",
      " \\. \". L_r'\n",
      "   `~\\/\n",
      "      |\n",
      "      |\n"
     ]
    }
   ],
   "source": [
    "print('         ,r\\'\"7')\n",
    "print('r`-_   ,\\'  ,/')\n",
    "print(' \\\\. \". L_r\\'')\n",
    "print('   `~\\/')\n",
    "print('      |')\n",
    "print('      |')"
   ]
  }
 ],
 "metadata": {
  "kernelspec": {
   "display_name": "Python 3 (ipykernel)",
   "language": "python",
   "name": "python3"
  },
  "language_info": {
   "codemirror_mode": {
    "name": "ipython",
    "version": 3
   },
   "file_extension": ".py",
   "mimetype": "text/x-python",
   "name": "python",
   "nbconvert_exporter": "python",
   "pygments_lexer": "ipython3",
   "version": "3.9.12"
  }
 },
 "nbformat": 4,
 "nbformat_minor": 5
}
