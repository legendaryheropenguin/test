{
 "cells": [
  {
   "cell_type": "markdown",
   "id": "545f54be",
   "metadata": {},
   "source": [
    "# 대구의 다양한 현상에 따른 대중교통 승객 수의 변화"
   ]
  },
  {
   "cell_type": "markdown",
   "id": "26d88a8d",
   "metadata": {},
   "source": [
    "## 1. 5년간 2012-2016 강수량이 있는 날과 맑은 날 버스 승객 수 비교"
   ]
  },
  {
   "cell_type": "code",
   "execution_count": 94,
   "id": "197103a1",
   "metadata": {},
   "outputs": [],
   "source": [
    "# 모듈 로딩\n",
    "import pandas as pd\n",
    "import matplotlib.pyplot as plt\n",
    "\n",
    "# Matplotlib 한글 Font 설정\n",
    "from matplotlib import font_manager as fm, rc\n",
    "\n",
    "# 한글 폰트 설정\n",
    "font_path='../Fonts/malgun.ttf'\n",
    "font_name=fm.FontProperties(fname=font_path).get_name()\n",
    "rc('font', family=font_name)\n",
    "\n",
    "# 파일 관련 변수들 선언\n",
    "DIR_PATH='./Data_도영/'\n",
    "FILE_NAME1=DIR_PATH+'강수량.xlsx'\n",
    "FILE_NAME2=DIR_PATH+'버스.xlsx'"
   ]
  },
  {
   "cell_type": "code",
   "execution_count": 95,
   "id": "5bf07a2a",
   "metadata": {},
   "outputs": [
    {
     "name": "stdout",
     "output_type": "stream",
     "text": [
      "<class 'pandas.core.frame.DataFrame'>\n",
      "RangeIndex: 1827 entries, 0 to 1826\n",
      "Data columns (total 3 columns):\n",
      " #   Column   Non-Null Count  Dtype         \n",
      "---  ------   --------------  -----         \n",
      " 0   날짜       1827 non-null   datetime64[ns]\n",
      " 1   지점       1827 non-null   int64         \n",
      " 2   강수량(mm)  615 non-null    float64       \n",
      "dtypes: datetime64[ns](1), float64(1), int64(1)\n",
      "memory usage: 42.9 KB\n",
      "<class 'pandas.core.frame.DataFrame'>\n",
      "RangeIndex: 1827 entries, 0 to 1826\n",
      "Data columns (total 3 columns):\n",
      " #   Column  Non-Null Count  Dtype         \n",
      "---  ------  --------------  -----         \n",
      " 0   일  자    1827 non-null   datetime64[ns]\n",
      " 1   요일      1827 non-null   object        \n",
      " 2   이용자수    1827 non-null   float64       \n",
      "dtypes: datetime64[ns](1), float64(1), object(1)\n",
      "memory usage: 42.9+ KB\n",
      "None\n",
      "None\n"
     ]
    }
   ],
   "source": [
    "# (1) EXCEL File => DataFrame 형태 데이터로 로딩\n",
    "weatherDF=pd.read_excel(FILE_NAME1)\n",
    "busDF=pd.read_excel(FILE_NAME2)\n",
    "\n",
    "# (2) Data 정보 확인\n",
    "# 요약 정보 확인\n",
    "print(weatherDF.info(), busDF.info(), sep='\\n')"
   ]
  },
  {
   "cell_type": "code",
   "execution_count": 96,
   "id": "3e2b4fa3",
   "metadata": {},
   "outputs": [
    {
     "name": "stdout",
     "output_type": "stream",
     "text": [
      "          날짜   지점  강수량(mm)\n",
      "0 2012-01-01  143      0.2\n",
      "1 2012-01-02  143      NaN\n",
      "2 2012-01-03  143      1.0\n",
      "3 2012-01-04  143      0.5\n",
      "4 2012-01-05  143      NaN\n",
      "        일  자 요일      이용자수\n",
      "0 2012-01-01  일  389720.0\n",
      "1 2012-01-02  월  735132.0\n",
      "2 2012-01-03  화  786235.0\n",
      "3 2012-01-04  수  813140.0\n",
      "4 2012-01-05  목  776380.0\n"
     ]
    }
   ],
   "source": [
    "# 일부 데이터 확인\n",
    "print(weatherDF.head(), busDF.head(), sep='\\n')"
   ]
  },
  {
   "cell_type": "code",
   "execution_count": 97,
   "id": "7daa27a4",
   "metadata": {},
   "outputs": [
    {
     "data": {
      "text/plain": [
       "1827"
      ]
     },
     "execution_count": 97,
     "metadata": {},
     "output_type": "execute_result"
    }
   ],
   "source": [
    "# 버스 이용자 수 데이터가 확실히 들어 있는지 확인\n",
    "bus=[]\n",
    "for i in busDF['이용자수']:\n",
    "    if i <= 0:\n",
    "        print(f'0 이하 수 발견 => {i}')\n",
    "    elif i > 0:\n",
    "        bus.append('i')\n",
    "\n",
    "len(bus)"
   ]
  },
  {
   "cell_type": "code",
   "execution_count": 98,
   "id": "d69824f4",
   "metadata": {},
   "outputs": [
    {
     "data": {
      "text/plain": [
       "array([2.00e-01,      nan, 1.00e+00, 5.00e-01, 1.00e-01, 0.00e+00,\n",
       "       4.50e+00, 3.00e-01, 2.00e+00, 1.50e+00, 3.50e+00, 1.80e+01,\n",
       "       5.50e+00, 2.50e+00, 6.50e+00, 1.85e+01, 2.50e+01, 1.55e+01,\n",
       "       3.55e+01, 1.90e+01, 3.00e+00, 1.10e+01, 2.10e+01, 1.05e+01,\n",
       "       7.50e+00, 4.00e+00, 1.15e+01, 1.25e+01, 2.90e+01, 2.25e+01,\n",
       "       3.25e+01, 3.35e+01, 2.55e+01, 2.20e+01, 6.00e+00, 7.55e+01,\n",
       "       2.80e+01, 1.46e+02, 2.15e+01, 1.35e+01, 2.65e+01, 7.00e+00,\n",
       "       6.80e+01, 9.35e+01, 1.75e+01, 9.50e+00, 4.90e+00, 1.50e+01,\n",
       "       9.80e+00, 1.54e+01, 1.30e+01, 5.00e+00, 8.00e-01, 1.20e+01,\n",
       "       4.00e-01, 1.65e+01, 3.20e+01, 1.57e+02, 2.05e+01, 8.00e+00,\n",
       "       5.65e+01, 1.00e+01, 3.95e+01, 2.40e+01, 4.95e+01, 5.15e+01,\n",
       "       1.95e+01, 1.45e+01, 1.40e+01, 4.05e+01, 1.60e+01, 2.60e+00,\n",
       "       4.65e+01, 2.60e+01, 4.00e+01, 3.00e+01, 3.30e+01, 9.50e+01,\n",
       "       5.05e+01, 3.80e+01, 8.50e+00, 9.00e+00, 8.35e+01, 7.95e+01,\n",
       "       3.65e+01, 6.50e+01, 3.10e+01, 5.40e+01, 3.50e+01, 5.30e+01,\n",
       "       2.35e+01, 7.60e+00, 1.52e+01, 2.70e+01, 1.70e+01, 2.00e+01,\n",
       "       6.00e-01, 2.45e+01, 7.45e+01, 7.10e+01, 6.70e+01, 4.55e+01,\n",
       "       1.13e+02, 4.90e+01])"
      ]
     },
     "execution_count": 98,
     "metadata": {},
     "output_type": "execute_result"
    }
   ],
   "source": [
    "# '강수량' 컬럼의 고유값 -> 값의 종류를 보고 결측지가 없는지 확인\n",
    "weatherDF['강수량(mm)'].unique()"
   ]
  },
  {
   "cell_type": "code",
   "execution_count": 99,
   "id": "768c5cc8",
   "metadata": {},
   "outputs": [
    {
     "data": {
      "text/html": [
       "<div>\n",
       "<style scoped>\n",
       "    .dataframe tbody tr th:only-of-type {\n",
       "        vertical-align: middle;\n",
       "    }\n",
       "\n",
       "    .dataframe tbody tr th {\n",
       "        vertical-align: top;\n",
       "    }\n",
       "\n",
       "    .dataframe thead th {\n",
       "        text-align: right;\n",
       "    }\n",
       "</style>\n",
       "<table border=\"1\" class=\"dataframe\">\n",
       "  <thead>\n",
       "    <tr style=\"text-align: right;\">\n",
       "      <th></th>\n",
       "      <th>날짜</th>\n",
       "      <th>지점</th>\n",
       "      <th>강수량(mm)</th>\n",
       "    </tr>\n",
       "  </thead>\n",
       "  <tbody>\n",
       "    <tr>\n",
       "      <th>0</th>\n",
       "      <td>2012-01-01</td>\n",
       "      <td>143</td>\n",
       "      <td>0.2</td>\n",
       "    </tr>\n",
       "    <tr>\n",
       "      <th>1</th>\n",
       "      <td>2012-01-02</td>\n",
       "      <td>143</td>\n",
       "      <td>0.0</td>\n",
       "    </tr>\n",
       "    <tr>\n",
       "      <th>2</th>\n",
       "      <td>2012-01-03</td>\n",
       "      <td>143</td>\n",
       "      <td>1.0</td>\n",
       "    </tr>\n",
       "    <tr>\n",
       "      <th>3</th>\n",
       "      <td>2012-01-04</td>\n",
       "      <td>143</td>\n",
       "      <td>0.5</td>\n",
       "    </tr>\n",
       "    <tr>\n",
       "      <th>4</th>\n",
       "      <td>2012-01-05</td>\n",
       "      <td>143</td>\n",
       "      <td>0.0</td>\n",
       "    </tr>\n",
       "    <tr>\n",
       "      <th>...</th>\n",
       "      <td>...</td>\n",
       "      <td>...</td>\n",
       "      <td>...</td>\n",
       "    </tr>\n",
       "    <tr>\n",
       "      <th>1822</th>\n",
       "      <td>2016-12-27</td>\n",
       "      <td>143</td>\n",
       "      <td>0.5</td>\n",
       "    </tr>\n",
       "    <tr>\n",
       "      <th>1823</th>\n",
       "      <td>2016-12-28</td>\n",
       "      <td>143</td>\n",
       "      <td>0.0</td>\n",
       "    </tr>\n",
       "    <tr>\n",
       "      <th>1824</th>\n",
       "      <td>2016-12-29</td>\n",
       "      <td>143</td>\n",
       "      <td>0.0</td>\n",
       "    </tr>\n",
       "    <tr>\n",
       "      <th>1825</th>\n",
       "      <td>2016-12-30</td>\n",
       "      <td>143</td>\n",
       "      <td>0.0</td>\n",
       "    </tr>\n",
       "    <tr>\n",
       "      <th>1826</th>\n",
       "      <td>2016-12-31</td>\n",
       "      <td>143</td>\n",
       "      <td>0.0</td>\n",
       "    </tr>\n",
       "  </tbody>\n",
       "</table>\n",
       "<p>1827 rows × 3 columns</p>\n",
       "</div>"
      ],
      "text/plain": [
       "             날짜   지점  강수량(mm)\n",
       "0    2012-01-01  143      0.2\n",
       "1    2012-01-02  143      0.0\n",
       "2    2012-01-03  143      1.0\n",
       "3    2012-01-04  143      0.5\n",
       "4    2012-01-05  143      0.0\n",
       "...         ...  ...      ...\n",
       "1822 2016-12-27  143      0.5\n",
       "1823 2016-12-28  143      0.0\n",
       "1824 2016-12-29  143      0.0\n",
       "1825 2016-12-30  143      0.0\n",
       "1826 2016-12-31  143      0.0\n",
       "\n",
       "[1827 rows x 3 columns]"
      ]
     },
     "execution_count": 99,
     "metadata": {},
     "output_type": "execute_result"
    }
   ],
   "source": [
    "# 강수량이 없는 날 (nan) 전부 0으로 채우기\n",
    "weatherDF.fillna(0, inplace=True)\n",
    "weatherDF"
   ]
  },
  {
   "cell_type": "code",
   "execution_count": 121,
   "id": "4a404c7f",
   "metadata": {},
   "outputs": [
    {
     "name": "stdout",
     "output_type": "stream",
     "text": [
      "=> 강수량 연도별 인덱스 Int64Index([365], dtype='int64')\n",
      "=> 강수량 연도별 인덱스 Int64Index([730], dtype='int64')\n",
      "=> 강수량 연도별 인덱스 Int64Index([1095], dtype='int64')\n",
      "=> 강수량 연도별 인덱스 Int64Index([1460], dtype='int64')\n",
      "=> 강수량 연도별 인덱스 Int64Index([1826], dtype='int64')\n",
      "=> 버스 연도별 인덱스 Int64Index([365], dtype='int64')\n",
      "=> 버스 연도별 인덱스 Int64Index([730], dtype='int64')\n",
      "=> 버스 연도별 인덱스 Int64Index([1095], dtype='int64')\n",
      "=> 버스 연도별 인덱스 Int64Index([1460], dtype='int64')\n",
      "=> 버스 연도별 인덱스 Int64Index([1826], dtype='int64')\n"
     ]
    },
    {
     "data": {
      "text/html": [
       "<div>\n",
       "<style scoped>\n",
       "    .dataframe tbody tr th:only-of-type {\n",
       "        vertical-align: middle;\n",
       "    }\n",
       "\n",
       "    .dataframe tbody tr th {\n",
       "        vertical-align: top;\n",
       "    }\n",
       "\n",
       "    .dataframe thead th {\n",
       "        text-align: right;\n",
       "    }\n",
       "</style>\n",
       "<table border=\"1\" class=\"dataframe\">\n",
       "  <thead>\n",
       "    <tr style=\"text-align: right;\">\n",
       "      <th></th>\n",
       "      <th>날짜</th>\n",
       "      <th>지점</th>\n",
       "      <th>강수량(mm)</th>\n",
       "    </tr>\n",
       "  </thead>\n",
       "  <tbody>\n",
       "    <tr>\n",
       "      <th>365</th>\n",
       "      <td>2012-12-31</td>\n",
       "      <td>143</td>\n",
       "      <td>0.0</td>\n",
       "    </tr>\n",
       "  </tbody>\n",
       "</table>\n",
       "</div>"
      ],
      "text/plain": [
       "            날짜   지점  강수량(mm)\n",
       "365 2012-12-31  143      0.0"
      ]
     },
     "execution_count": 121,
     "metadata": {},
     "output_type": "execute_result"
    }
   ],
   "source": [
    "# 연도별로 나누기 위해 인덱스 찾기\n",
    "weather_index=[]\n",
    "bus_index=[]\n",
    "\n",
    "for i in range(2012,2017):\n",
    "    weather_index.append(weatherDF[weatherDF['날짜']==f'{i}-12-31'].index)\n",
    "    bus_index.append(busDF[busDF['일  자']==f'{i}-12-31'].index)\n",
    "\n",
    "\n",
    "# weather_index.append(weatherDF[weatherDF['날짜']=='2012-12-31'].index)\n",
    "# weather_index.append(weatherDF[weatherDF['날짜']=='2013-12-31'].index)\n",
    "# weather_index.append(weatherDF[weatherDF['날짜']=='2014-12-31'].index)\n",
    "# weather_index.append(weatherDF[weatherDF['날짜']=='2015-12-31'].index)\n",
    "# weather_index.append(weatherDF[weatherDF['날짜']=='2016-12-31'].index)\n",
    "\n",
    "# bus_index.append(busDF[busDF['일  자']=='2012-12-31'].index)\n",
    "# bus_index.append(busDF[busDF['일  자']=='2013-12-31'].index)\n",
    "# bus_index.append(busDF[busDF['일  자']=='2014-12-31'].index)\n",
    "# bus_index.append(busDF[busDF['일  자']=='2015-12-31'].index)\n",
    "# bus_index.append(busDF[busDF['일  자']=='2016-12-31'].index)\n",
    "\n",
    "\n",
    "for j in weather_index:\n",
    "    print(f'=> 강수량 연도별 인덱스 {j}')\n",
    "    \n",
    "for k in bus_index:\n",
    "    print(f'=> 버스 연도별 인덱스 {k}')\n",
    "\n",
    "\n",
    "\n",
    "weatherDF[weatherDF['날짜']=='2012-12-31']"
   ]
  },
  {
   "cell_type": "code",
   "execution_count": 101,
   "id": "3d1443b7",
   "metadata": {},
   "outputs": [
    {
     "data": {
      "text/html": [
       "<div>\n",
       "<style scoped>\n",
       "    .dataframe tbody tr th:only-of-type {\n",
       "        vertical-align: middle;\n",
       "    }\n",
       "\n",
       "    .dataframe tbody tr th {\n",
       "        vertical-align: top;\n",
       "    }\n",
       "\n",
       "    .dataframe thead th {\n",
       "        text-align: right;\n",
       "    }\n",
       "</style>\n",
       "<table border=\"1\" class=\"dataframe\">\n",
       "  <thead>\n",
       "    <tr style=\"text-align: right;\">\n",
       "      <th></th>\n",
       "      <th>날짜</th>\n",
       "      <th>지점</th>\n",
       "      <th>강수량(mm)</th>\n",
       "    </tr>\n",
       "  </thead>\n",
       "  <tbody>\n",
       "    <tr>\n",
       "      <th>0</th>\n",
       "      <td>2012-01-01</td>\n",
       "      <td>143</td>\n",
       "      <td>0.2</td>\n",
       "    </tr>\n",
       "    <tr>\n",
       "      <th>2</th>\n",
       "      <td>2012-01-03</td>\n",
       "      <td>143</td>\n",
       "      <td>1.0</td>\n",
       "    </tr>\n",
       "    <tr>\n",
       "      <th>3</th>\n",
       "      <td>2012-01-04</td>\n",
       "      <td>143</td>\n",
       "      <td>0.5</td>\n",
       "    </tr>\n",
       "    <tr>\n",
       "      <th>15</th>\n",
       "      <td>2012-01-16</td>\n",
       "      <td>143</td>\n",
       "      <td>0.1</td>\n",
       "    </tr>\n",
       "    <tr>\n",
       "      <th>17</th>\n",
       "      <td>2012-01-18</td>\n",
       "      <td>143</td>\n",
       "      <td>1.0</td>\n",
       "    </tr>\n",
       "    <tr>\n",
       "      <th>...</th>\n",
       "      <td>...</td>\n",
       "      <td>...</td>\n",
       "      <td>...</td>\n",
       "    </tr>\n",
       "    <tr>\n",
       "      <th>1814</th>\n",
       "      <td>2016-12-19</td>\n",
       "      <td>143</td>\n",
       "      <td>1.5</td>\n",
       "    </tr>\n",
       "    <tr>\n",
       "      <th>1816</th>\n",
       "      <td>2016-12-21</td>\n",
       "      <td>143</td>\n",
       "      <td>18.5</td>\n",
       "    </tr>\n",
       "    <tr>\n",
       "      <th>1817</th>\n",
       "      <td>2016-12-22</td>\n",
       "      <td>143</td>\n",
       "      <td>6.0</td>\n",
       "    </tr>\n",
       "    <tr>\n",
       "      <th>1821</th>\n",
       "      <td>2016-12-26</td>\n",
       "      <td>143</td>\n",
       "      <td>14.5</td>\n",
       "    </tr>\n",
       "    <tr>\n",
       "      <th>1822</th>\n",
       "      <td>2016-12-27</td>\n",
       "      <td>143</td>\n",
       "      <td>0.5</td>\n",
       "    </tr>\n",
       "  </tbody>\n",
       "</table>\n",
       "<p>525 rows × 3 columns</p>\n",
       "</div>"
      ],
      "text/plain": [
       "             날짜   지점  강수량(mm)\n",
       "0    2012-01-01  143      0.2\n",
       "2    2012-01-03  143      1.0\n",
       "3    2012-01-04  143      0.5\n",
       "15   2012-01-16  143      0.1\n",
       "17   2012-01-18  143      1.0\n",
       "...         ...  ...      ...\n",
       "1814 2016-12-19  143      1.5\n",
       "1816 2016-12-21  143     18.5\n",
       "1817 2016-12-22  143      6.0\n",
       "1821 2016-12-26  143     14.5\n",
       "1822 2016-12-27  143      0.5\n",
       "\n",
       "[525 rows x 3 columns]"
      ]
     },
     "execution_count": 101,
     "metadata": {},
     "output_type": "execute_result"
    }
   ],
   "source": [
    "# 정답지 만들기. 강수량이 있는 날 데이터만 추출\n",
    "\n",
    "rainDF=weatherDF[weatherDF['강수량(mm)']>0]\n",
    "rainDF"
   ]
  },
  {
   "cell_type": "code",
   "execution_count": 102,
   "id": "3134b00e",
   "metadata": {},
   "outputs": [
    {
     "data": {
      "text/plain": [
       "Int64Index([   0,    2,    3,   15,   17,   18,   20,   30,   31,   43,\n",
       "            ...\n",
       "            1776, 1783, 1784, 1791, 1795, 1814, 1816, 1817, 1821, 1822],\n",
       "           dtype='int64', length=525)"
      ]
     },
     "execution_count": 102,
     "metadata": {},
     "output_type": "execute_result"
    }
   ],
   "source": [
    "# 강수량이 있는 날 행인덱스 보기\n",
    "rainDF.index"
   ]
  },
  {
   "cell_type": "code",
   "execution_count": 103,
   "id": "22c97b4f",
   "metadata": {
    "scrolled": true
   },
   "outputs": [
    {
     "data": {
      "text/plain": [
       "[389720.0,\n",
       " 786235.0,\n",
       " 813140.0,\n",
       " 797505.0,\n",
       " 814294.0,\n",
       " 769559.0,\n",
       " 612625.0,\n",
       " 794818.0,\n",
       " 777136.0,\n",
       " 782191.0,\n",
       " 782247.0,\n",
       " 792133.0,\n",
       " 889750.0,\n",
       " 487597.0,\n",
       " 872592.0,\n",
       " 908077.0,\n",
       " 884518.0,\n",
       " 745531.0,\n",
       " 548267.0,\n",
       " 886871.0,\n",
       " 859978.0,\n",
       " 837372.0,\n",
       " 886184.0,\n",
       " 848778.0,\n",
       " 714458.0,\n",
       " 906880.0,\n",
       " 890812.0,\n",
       " 900133.0,\n",
       " 651569.0,\n",
       " 537265.0,\n",
       " 868450.0,\n",
       " 839044.0,\n",
       " 907140.0,\n",
       " 921289.0,\n",
       " 898919.0,\n",
       " 859258.0,\n",
       " 978545.0,\n",
       " 907730.0,\n",
       " 899032.0,\n",
       " 645806.0,\n",
       " 885872.0,\n",
       " 893425.0,\n",
       " 890910.0,\n",
       " 901406.0,\n",
       " 877330.0,\n",
       " 759679.0,\n",
       " 867070.0,\n",
       " 884426.0,\n",
       " 725959.0,\n",
       " 858885.0,\n",
       " 885488.0,\n",
       " 670980.0,\n",
       " 518475.0,\n",
       " 807068.0,\n",
       " 858087.0,\n",
       " 750551.0,\n",
       " 940283.0,\n",
       " 832082.0,\n",
       " 872044.0,\n",
       " 723864.0,\n",
       " 481509.0,\n",
       " 859643.0,\n",
       " 839905.0,\n",
       " 906370.0,\n",
       " 721426.0,\n",
       " 803496.0,\n",
       " 669996.0,\n",
       " 468886.0,\n",
       " 734450.0,\n",
       " 814934.0,\n",
       " 797497.0,\n",
       " 829129.0,\n",
       " 866385.0,\n",
       " 818442.0,\n",
       " 730986.0,\n",
       " 856684.0,\n",
       " 715526.0,\n",
       " 824296.0,\n",
       " 920920.0,\n",
       " 929314.0,\n",
       " 773829.0,\n",
       " 515106.0,\n",
       " 884264.0,\n",
       " 908113.0,\n",
       " 918201.0,\n",
       " 772117.0,\n",
       " 469039.0,\n",
       " 659681.0,\n",
       " 884072.0,\n",
       " 809266.0,\n",
       " 669802.0,\n",
       " 505352.0,\n",
       " 870708.0,\n",
       " 752054.0,\n",
       " 529022.0,\n",
       " 903848.0,\n",
       " 739212.0,\n",
       " 520014.0,\n",
       " 845753.0,\n",
       " 481397.0,\n",
       " 845757.0,\n",
       " 847171.0,\n",
       " 876429.0,\n",
       " 823157.0,\n",
       " 910090.0,\n",
       " 722274.0,\n",
       " 764523.0,\n",
       " 495234.0]"
      ]
     },
     "execution_count": 103,
     "metadata": {},
     "output_type": "execute_result"
    }
   ],
   "source": [
    "# 강수량이 있는 날 행인덱스에 대한 각각의 버스 승객 수를 연도별로 rb2012-2016 리스트에 담는다.\n",
    "rb2012=[]\n",
    "rb2013=[]\n",
    "rb2014=[]\n",
    "rb2015=[]\n",
    "rb2016=[]\n",
    "for i in rainDF.index:\n",
    "    if i<=365:\n",
    "        rb2012.append(busDF.iloc[i][2])\n",
    "    elif i<=730:\n",
    "        rb2013.append(busDF.iloc[i][2])\n",
    "    elif i<=1095:\n",
    "        rb2014.append(busDF.iloc[i][2])\n",
    "    elif i<=1460:\n",
    "        rb2015.append(busDF.iloc[i][2])\n",
    "    elif i<=1826:\n",
    "        rb2016.append(busDF.iloc[i][2])\n",
    "\n",
    "rb2012"
   ]
  },
  {
   "cell_type": "code",
   "execution_count": 104,
   "id": "00a83826",
   "metadata": {},
   "outputs": [
    {
     "data": {
      "text/html": [
       "<div>\n",
       "<style scoped>\n",
       "    .dataframe tbody tr th:only-of-type {\n",
       "        vertical-align: middle;\n",
       "    }\n",
       "\n",
       "    .dataframe tbody tr th {\n",
       "        vertical-align: top;\n",
       "    }\n",
       "\n",
       "    .dataframe thead th {\n",
       "        text-align: right;\n",
       "    }\n",
       "</style>\n",
       "<table border=\"1\" class=\"dataframe\">\n",
       "  <thead>\n",
       "    <tr style=\"text-align: right;\">\n",
       "      <th></th>\n",
       "      <th>일  자</th>\n",
       "      <th>요일</th>\n",
       "      <th>이용자수</th>\n",
       "    </tr>\n",
       "  </thead>\n",
       "  <tbody>\n",
       "    <tr>\n",
       "      <th>0</th>\n",
       "      <td>2012-01-01</td>\n",
       "      <td>일</td>\n",
       "      <td>389720.0</td>\n",
       "    </tr>\n",
       "    <tr>\n",
       "      <th>1</th>\n",
       "      <td>2012-01-02</td>\n",
       "      <td>월</td>\n",
       "      <td>735132.0</td>\n",
       "    </tr>\n",
       "    <tr>\n",
       "      <th>2</th>\n",
       "      <td>2012-01-03</td>\n",
       "      <td>화</td>\n",
       "      <td>786235.0</td>\n",
       "    </tr>\n",
       "    <tr>\n",
       "      <th>3</th>\n",
       "      <td>2012-01-04</td>\n",
       "      <td>수</td>\n",
       "      <td>813140.0</td>\n",
       "    </tr>\n",
       "    <tr>\n",
       "      <th>4</th>\n",
       "      <td>2012-01-05</td>\n",
       "      <td>목</td>\n",
       "      <td>776380.0</td>\n",
       "    </tr>\n",
       "    <tr>\n",
       "      <th>...</th>\n",
       "      <td>...</td>\n",
       "      <td>...</td>\n",
       "      <td>...</td>\n",
       "    </tr>\n",
       "    <tr>\n",
       "      <th>1822</th>\n",
       "      <td>2016-12-27</td>\n",
       "      <td>화</td>\n",
       "      <td>701576.0</td>\n",
       "    </tr>\n",
       "    <tr>\n",
       "      <th>1823</th>\n",
       "      <td>2016-12-28</td>\n",
       "      <td>수</td>\n",
       "      <td>698132.0</td>\n",
       "    </tr>\n",
       "    <tr>\n",
       "      <th>1824</th>\n",
       "      <td>2016-12-29</td>\n",
       "      <td>목</td>\n",
       "      <td>698054.0</td>\n",
       "    </tr>\n",
       "    <tr>\n",
       "      <th>1825</th>\n",
       "      <td>2016-12-30</td>\n",
       "      <td>금</td>\n",
       "      <td>691452.0</td>\n",
       "    </tr>\n",
       "    <tr>\n",
       "      <th>1826</th>\n",
       "      <td>2016-12-31</td>\n",
       "      <td>토</td>\n",
       "      <td>540115.0</td>\n",
       "    </tr>\n",
       "  </tbody>\n",
       "</table>\n",
       "<p>1827 rows × 3 columns</p>\n",
       "</div>"
      ],
      "text/plain": [
       "           일  자 요일      이용자수\n",
       "0    2012-01-01  일  389720.0\n",
       "1    2012-01-02  월  735132.0\n",
       "2    2012-01-03  화  786235.0\n",
       "3    2012-01-04  수  813140.0\n",
       "4    2012-01-05  목  776380.0\n",
       "...         ... ..       ...\n",
       "1822 2016-12-27  화  701576.0\n",
       "1823 2016-12-28  수  698132.0\n",
       "1824 2016-12-29  목  698054.0\n",
       "1825 2016-12-30  금  691452.0\n",
       "1826 2016-12-31  토  540115.0\n",
       "\n",
       "[1827 rows x 3 columns]"
      ]
     },
     "execution_count": 104,
     "metadata": {},
     "output_type": "execute_result"
    }
   ],
   "source": [
    "busDF"
   ]
  },
  {
   "cell_type": "code",
   "execution_count": 105,
   "id": "d39a7435",
   "metadata": {},
   "outputs": [
    {
     "name": "stdout",
     "output_type": "stream",
     "text": [
      "783172.324074074 783172\n"
     ]
    }
   ],
   "source": [
    "# 강수량이 있는 날 평균 이용자 수 rbMean2012-2016에 저장\n",
    "# for i in range(2012,2017):\n",
    "#     f'rbMean{i}=round(pd.Series(rb{i}).mean())'\n",
    "\n",
    "rbMean2012=round(pd.Series(rb2012).mean())\n",
    "rbMean2013=round(pd.Series(rb2013).mean())\n",
    "rbMean2014=round(pd.Series(rb2014).mean())\n",
    "rbMean2015=round(pd.Series(rb2015).mean())\n",
    "rbMean2016=round(pd.Series(rb2016).mean())\n",
    "\n",
    "print(pd.Series(rb2012).mean(),rbMean2012)"
   ]
  },
  {
   "cell_type": "code",
   "execution_count": 106,
   "id": "666b7890",
   "metadata": {},
   "outputs": [
    {
     "data": {
      "text/html": [
       "<div>\n",
       "<style scoped>\n",
       "    .dataframe tbody tr th:only-of-type {\n",
       "        vertical-align: middle;\n",
       "    }\n",
       "\n",
       "    .dataframe tbody tr th {\n",
       "        vertical-align: top;\n",
       "    }\n",
       "\n",
       "    .dataframe thead th {\n",
       "        text-align: right;\n",
       "    }\n",
       "</style>\n",
       "<table border=\"1\" class=\"dataframe\">\n",
       "  <thead>\n",
       "    <tr style=\"text-align: right;\">\n",
       "      <th></th>\n",
       "      <th>날짜</th>\n",
       "      <th>지점</th>\n",
       "      <th>강수량(mm)</th>\n",
       "    </tr>\n",
       "  </thead>\n",
       "  <tbody>\n",
       "    <tr>\n",
       "      <th>1</th>\n",
       "      <td>2012-01-02</td>\n",
       "      <td>143</td>\n",
       "      <td>0.0</td>\n",
       "    </tr>\n",
       "    <tr>\n",
       "      <th>4</th>\n",
       "      <td>2012-01-05</td>\n",
       "      <td>143</td>\n",
       "      <td>0.0</td>\n",
       "    </tr>\n",
       "    <tr>\n",
       "      <th>5</th>\n",
       "      <td>2012-01-06</td>\n",
       "      <td>143</td>\n",
       "      <td>0.0</td>\n",
       "    </tr>\n",
       "    <tr>\n",
       "      <th>6</th>\n",
       "      <td>2012-01-07</td>\n",
       "      <td>143</td>\n",
       "      <td>0.0</td>\n",
       "    </tr>\n",
       "    <tr>\n",
       "      <th>7</th>\n",
       "      <td>2012-01-08</td>\n",
       "      <td>143</td>\n",
       "      <td>0.0</td>\n",
       "    </tr>\n",
       "    <tr>\n",
       "      <th>...</th>\n",
       "      <td>...</td>\n",
       "      <td>...</td>\n",
       "      <td>...</td>\n",
       "    </tr>\n",
       "    <tr>\n",
       "      <th>1820</th>\n",
       "      <td>2016-12-25</td>\n",
       "      <td>143</td>\n",
       "      <td>0.0</td>\n",
       "    </tr>\n",
       "    <tr>\n",
       "      <th>1823</th>\n",
       "      <td>2016-12-28</td>\n",
       "      <td>143</td>\n",
       "      <td>0.0</td>\n",
       "    </tr>\n",
       "    <tr>\n",
       "      <th>1824</th>\n",
       "      <td>2016-12-29</td>\n",
       "      <td>143</td>\n",
       "      <td>0.0</td>\n",
       "    </tr>\n",
       "    <tr>\n",
       "      <th>1825</th>\n",
       "      <td>2016-12-30</td>\n",
       "      <td>143</td>\n",
       "      <td>0.0</td>\n",
       "    </tr>\n",
       "    <tr>\n",
       "      <th>1826</th>\n",
       "      <td>2016-12-31</td>\n",
       "      <td>143</td>\n",
       "      <td>0.0</td>\n",
       "    </tr>\n",
       "  </tbody>\n",
       "</table>\n",
       "<p>1302 rows × 3 columns</p>\n",
       "</div>"
      ],
      "text/plain": [
       "             날짜   지점  강수량(mm)\n",
       "1    2012-01-02  143      0.0\n",
       "4    2012-01-05  143      0.0\n",
       "5    2012-01-06  143      0.0\n",
       "6    2012-01-07  143      0.0\n",
       "7    2012-01-08  143      0.0\n",
       "...         ...  ...      ...\n",
       "1820 2016-12-25  143      0.0\n",
       "1823 2016-12-28  143      0.0\n",
       "1824 2016-12-29  143      0.0\n",
       "1825 2016-12-30  143      0.0\n",
       "1826 2016-12-31  143      0.0\n",
       "\n",
       "[1302 rows x 3 columns]"
      ]
     },
     "execution_count": 106,
     "metadata": {},
     "output_type": "execute_result"
    }
   ],
   "source": [
    "# 정답지 만들기, 맑은 날 데이터만 추출\n",
    "sunnyDF=weatherDF[weatherDF['강수량(mm)']==0]\n",
    "sunnyDF"
   ]
  },
  {
   "cell_type": "code",
   "execution_count": 107,
   "id": "71b8e8f9",
   "metadata": {},
   "outputs": [
    {
     "data": {
      "text/plain": [
       "Int64Index([   1,    4,    5,    6,    7,    8,    9,   10,   11,   12,\n",
       "            ...\n",
       "            1812, 1813, 1815, 1818, 1819, 1820, 1823, 1824, 1825, 1826],\n",
       "           dtype='int64', length=1302)"
      ]
     },
     "execution_count": 107,
     "metadata": {},
     "output_type": "execute_result"
    }
   ],
   "source": [
    "# 맑은 날 행인덱스 보기\n",
    "sunnyDF.index"
   ]
  },
  {
   "cell_type": "code",
   "execution_count": 108,
   "id": "b4003008",
   "metadata": {},
   "outputs": [],
   "source": [
    "# 맑은 날 행인덱스에 대한 각각의 버스 승객 수를 연도별로 sb2012-2016 리스트에 담는다.\n",
    "sb2012=[]\n",
    "sb2013=[]\n",
    "sb2014=[]\n",
    "sb2015=[]\n",
    "sb2016=[]\n",
    "for j in sunnyDF.index:\n",
    "    if j<=365:\n",
    "        sb2012.append(busDF.iloc[j][2])\n",
    "    elif j<=730:\n",
    "        sb2013.append(busDF.iloc[j][2])\n",
    "    elif j<=1095:\n",
    "        sb2014.append(busDF.iloc[j][2])\n",
    "    elif j<=1460:\n",
    "        sb2015.append(busDF.iloc[j][2])\n",
    "    elif j<=1826:\n",
    "        sb2016.append(busDF.iloc[j][2])"
   ]
  },
  {
   "cell_type": "code",
   "execution_count": 109,
   "id": "3f9233b4",
   "metadata": {},
   "outputs": [
    {
     "name": "stdout",
     "output_type": "stream",
     "text": [
      "784989.7248062015 784990\n"
     ]
    }
   ],
   "source": [
    "# 맑은 날 평균 이용자 수 sunnyMean에 저장\n",
    "for i in range(2012,2017):\n",
    "    f'sbMean{i}=round(pd.Series(sb{i}).mean())'\n",
    "\n",
    "# sbMean2012=round(pd.Series(sb2012).mean())\n",
    "# sbMean2013=round(pd.Series(sb2013).mean())\n",
    "# sbMean2014=round(pd.Series(sb2014).mean())\n",
    "# sbMean2015=round(pd.Series(sb2015).mean())\n",
    "# sbMean2016=round(pd.Series(sb2016).mean())\n",
    "\n",
    "print(pd.Series(sb2012).mean(), sbMean2012)"
   ]
  },
  {
   "cell_type": "code",
   "execution_count": 110,
   "id": "e8617704",
   "metadata": {},
   "outputs": [
    {
     "name": "stdout",
     "output_type": "stream",
     "text": [
      "2012년 => 강수량이 있는 날 버스 승객 수 평균은 783172, 맑은 날 버스 승객 수 평균은 784990\n",
      "2013년 => 강수량이 있는 날 버스 승객 수 평균은 786554, 맑은 날 버스 승객 수 평균은 798571\n",
      "2014년 => 강수량이 있는 날 버스 승객 수 평균은 767495, 맑은 날 버스 승객 수 평균은 791447\n",
      "2015년 => 강수량이 있는 날 버스 승객 수 평균은 719482, 맑은 날 버스 승객 수 평균은 725528\n",
      "2016년 => 강수량이 있는 날 버스 승객 수 평균은 669957, 맑은 날 버스 승객 수 평균은 679635\n"
     ]
    }
   ],
   "source": [
    "print(f'2012년 => 강수량이 있는 날 버스 승객 수 평균은 {rbMean2012}, 맑은 날 버스 승객 수 평균은 {sbMean2012}',\n",
    "      f'2013년 => 강수량이 있는 날 버스 승객 수 평균은 {rbMean2013}, 맑은 날 버스 승객 수 평균은 {sbMean2013}',\n",
    "      f'2014년 => 강수량이 있는 날 버스 승객 수 평균은 {rbMean2014}, 맑은 날 버스 승객 수 평균은 {sbMean2014}',\n",
    "      f'2015년 => 강수량이 있는 날 버스 승객 수 평균은 {rbMean2015}, 맑은 날 버스 승객 수 평균은 {sbMean2015}',\n",
    "      f'2016년 => 강수량이 있는 날 버스 승객 수 평균은 {rbMean2016}, 맑은 날 버스 승객 수 평균은 {sbMean2016}',sep='\\n')"
   ]
  },
  {
   "cell_type": "code",
   "execution_count": 111,
   "id": "37e9bfe6",
   "metadata": {},
   "outputs": [
    {
     "data": {
      "image/png": "[encoded data removed]",
      "text/plain": [
       "<Figure size 432x288 with 1 Axes>"
      ]
     },
     "metadata": {
      "needs_background": "light"
     },
     "output_type": "display_data"
    }
   ],
   "source": [
    "# 그래프 그리기\n",
    "\n",
    "plt.plot([2012,2013,2014,2015,2016],[rbMean2012,rbMean2013,rbMean2014,rbMean2015,rbMean2016],'o-')\n",
    "plt.plot([2012,2013,2014,2015,2016],[sbMean2012,sbMean2013,sbMean2014,sbMean2015,sbMean2016], 'o--')\n",
    "plt.title('날씨에 따른 버스 승객 수')\n",
    "plt.xticks(range(2012,2017))          # x축 눈금 지정\n",
    "plt.xlabel('연도')\n",
    "plt.ylabel('평균 승객 수')\n",
    "plt.legend(['비,눈','맑음'])\n",
    "plt.show()"
   ]
  },
  {
   "cell_type": "markdown",
   "id": "ac1237a2",
   "metadata": {},
   "source": [
    "# 2. 5년간 2012-2016 평일 주말 버스 승객 수 비교"
   ]
  },
  {
   "cell_type": "code",
   "execution_count": 112,
   "id": "0b3ec154",
   "metadata": {},
   "outputs": [],
   "source": [
    "# 평일 주말에 따라 버스 이용객 수를 연도별로 나누어 각각 저장한다.\n",
    "week2012=[]\n",
    "week2013=[]\n",
    "week2014=[]\n",
    "week2015=[]\n",
    "week2016=[]\n",
    "normal2012=[]\n",
    "normal2013=[]\n",
    "normal2014=[]\n",
    "normal2015=[]\n",
    "normal2016=[]\n",
    "\n",
    "for k in busDF.index:\n",
    "    if k<=365:\n",
    "        if k%7==0 or k%7==6:\n",
    "            week2012.append(busDF.iloc[k][2])\n",
    "        elif k%7==1 or k%7==2 or k%7==3 or k%7==4 or k%7==5:\n",
    "            normal2012.append(busDF.iloc[k][2])\n",
    "    elif k<=730:\n",
    "        if k%7==0 or k%7==6:\n",
    "            week2013.append(busDF.iloc[k][2])\n",
    "        elif k%7==1 or k%7==2 or k%7==3 or k%7==4 or k%7==5:\n",
    "            normal2013.append(busDF.iloc[k][2])\n",
    "    elif k<=1095:\n",
    "        if k%7==0 or k%7==6:\n",
    "            week2014.append(busDF.iloc[k][2])\n",
    "        elif k%7==1 or k%7==2 or k%7==3 or k%7==4 or k%7==5:\n",
    "            normal2014.append(busDF.iloc[k][2])\n",
    "    elif k<=1460:\n",
    "        if k%7==0 or k%7==6:\n",
    "            week2015.append(busDF.iloc[k][2])\n",
    "        elif k%7==1 or k%7==2 or k%7==3 or k%7==4 or k%7==5:\n",
    "            normal2015.append(busDF.iloc[k][2])\n",
    "    elif k<=1826:\n",
    "        if k%7==0 or k%7==6:\n",
    "            week2016.append(busDF.iloc[k][2])\n",
    "        elif k%7==1 or k%7==2 or k%7==3 or k%7==4 or k%7==5:\n",
    "            normal2016.append(busDF.iloc[k][2])        "
   ]
  },
  {
   "cell_type": "code",
   "execution_count": 113,
   "id": "2061aa58",
   "metadata": {
    "scrolled": true
   },
   "outputs": [
    {
     "data": {
      "text/html": [
       "<div>\n",
       "<style scoped>\n",
       "    .dataframe tbody tr th:only-of-type {\n",
       "        vertical-align: middle;\n",
       "    }\n",
       "\n",
       "    .dataframe tbody tr th {\n",
       "        vertical-align: top;\n",
       "    }\n",
       "\n",
       "    .dataframe thead th {\n",
       "        text-align: right;\n",
       "    }\n",
       "</style>\n",
       "<table border=\"1\" class=\"dataframe\">\n",
       "  <thead>\n",
       "    <tr style=\"text-align: right;\">\n",
       "      <th></th>\n",
       "      <th>일  자</th>\n",
       "      <th>요일</th>\n",
       "      <th>이용자수</th>\n",
       "    </tr>\n",
       "  </thead>\n",
       "  <tbody>\n",
       "    <tr>\n",
       "      <th>0</th>\n",
       "      <td>2012-01-01</td>\n",
       "      <td>일</td>\n",
       "      <td>389720.0</td>\n",
       "    </tr>\n",
       "    <tr>\n",
       "      <th>1</th>\n",
       "      <td>2012-01-02</td>\n",
       "      <td>월</td>\n",
       "      <td>735132.0</td>\n",
       "    </tr>\n",
       "    <tr>\n",
       "      <th>2</th>\n",
       "      <td>2012-01-03</td>\n",
       "      <td>화</td>\n",
       "      <td>786235.0</td>\n",
       "    </tr>\n",
       "    <tr>\n",
       "      <th>3</th>\n",
       "      <td>2012-01-04</td>\n",
       "      <td>수</td>\n",
       "      <td>813140.0</td>\n",
       "    </tr>\n",
       "    <tr>\n",
       "      <th>4</th>\n",
       "      <td>2012-01-05</td>\n",
       "      <td>목</td>\n",
       "      <td>776380.0</td>\n",
       "    </tr>\n",
       "    <tr>\n",
       "      <th>...</th>\n",
       "      <td>...</td>\n",
       "      <td>...</td>\n",
       "      <td>...</td>\n",
       "    </tr>\n",
       "    <tr>\n",
       "      <th>1822</th>\n",
       "      <td>2016-12-27</td>\n",
       "      <td>화</td>\n",
       "      <td>701576.0</td>\n",
       "    </tr>\n",
       "    <tr>\n",
       "      <th>1823</th>\n",
       "      <td>2016-12-28</td>\n",
       "      <td>수</td>\n",
       "      <td>698132.0</td>\n",
       "    </tr>\n",
       "    <tr>\n",
       "      <th>1824</th>\n",
       "      <td>2016-12-29</td>\n",
       "      <td>목</td>\n",
       "      <td>698054.0</td>\n",
       "    </tr>\n",
       "    <tr>\n",
       "      <th>1825</th>\n",
       "      <td>2016-12-30</td>\n",
       "      <td>금</td>\n",
       "      <td>691452.0</td>\n",
       "    </tr>\n",
       "    <tr>\n",
       "      <th>1826</th>\n",
       "      <td>2016-12-31</td>\n",
       "      <td>토</td>\n",
       "      <td>540115.0</td>\n",
       "    </tr>\n",
       "  </tbody>\n",
       "</table>\n",
       "<p>1827 rows × 3 columns</p>\n",
       "</div>"
      ],
      "text/plain": [
       "           일  자 요일      이용자수\n",
       "0    2012-01-01  일  389720.0\n",
       "1    2012-01-02  월  735132.0\n",
       "2    2012-01-03  화  786235.0\n",
       "3    2012-01-04  수  813140.0\n",
       "4    2012-01-05  목  776380.0\n",
       "...         ... ..       ...\n",
       "1822 2016-12-27  화  701576.0\n",
       "1823 2016-12-28  수  698132.0\n",
       "1824 2016-12-29  목  698054.0\n",
       "1825 2016-12-30  금  691452.0\n",
       "1826 2016-12-31  토  540115.0\n",
       "\n",
       "[1827 rows x 3 columns]"
      ]
     },
     "execution_count": 113,
     "metadata": {},
     "output_type": "execute_result"
    }
   ],
   "source": [
    "busDF"
   ]
  },
  {
   "cell_type": "code",
   "execution_count": 114,
   "id": "b64a6573",
   "metadata": {},
   "outputs": [],
   "source": [
    "# 평일과 주말 평균 승객 수\n",
    "for i in range(2012,2017):\n",
    "    f'wkMean{i}=round(pd.Series(week{i}).mean())'\n",
    "    f'nmMean{i}=round(pd.Series(normal{i}).mean())'\n",
    "\n",
    "# wkMean2012=round(pd.Series(week2012).mean())\n",
    "# wkMean2013=round(pd.Series(week2013).mean())\n",
    "# wkMean2014=round(pd.Series(week2014).mean())\n",
    "# wkMean2015=round(pd.Series(week2015).mean())\n",
    "# wkMean2016=round(pd.Series(week2016).mean())\n",
    "\n",
    "# nmMean2012=round(pd.Series(normal2012).mean())\n",
    "# nmMean2013=round(pd.Series(normal2013).mean())\n",
    "# nmMean2014=round(pd.Series(normal2014).mean())\n",
    "# nmMean2015=round(pd.Series(normal2015).mean())\n",
    "# nmMean2016=round(pd.Series(normal2016).mean())"
   ]
  },
  {
   "cell_type": "code",
   "execution_count": 115,
   "id": "d37ee9be",
   "metadata": {},
   "outputs": [
    {
     "name": "stdout",
     "output_type": "stream",
     "text": [
      "2012년 주말 버스 승객 수 평균은 620946, 평일 버스 승객 수 평균은 850232\n",
      "2013년 주말 버스 승객 수 평균은 632091, 평일 버스 승객 수 평균은 860257\n",
      "2014년 주말 버스 승객 수 평균은 628052, 평일 버스 승객 수 평균은 847102\n",
      "2015년 주말 버스 승객 수 평균은 570939, 평일 버스 승객 수 평균은 784625\n",
      "2016년 주말 버스 승객 수 평균은 535836, 평일 버스 승객 수 평균은 733591\n"
     ]
    }
   ],
   "source": [
    "print(f'2012년 주말 버스 승객 수 평균은 {wkMean2012}, 평일 버스 승객 수 평균은 {nmMean2012}', \n",
    "      f'2013년 주말 버스 승객 수 평균은 {wkMean2013}, 평일 버스 승객 수 평균은 {nmMean2013}', \n",
    "      f'2014년 주말 버스 승객 수 평균은 {wkMean2014}, 평일 버스 승객 수 평균은 {nmMean2014}', \n",
    "      f'2015년 주말 버스 승객 수 평균은 {wkMean2015}, 평일 버스 승객 수 평균은 {nmMean2015}', \n",
    "      f'2016년 주말 버스 승객 수 평균은 {wkMean2016}, 평일 버스 승객 수 평균은 {nmMean2016}', sep='\\n') "
   ]
  },
  {
   "cell_type": "code",
   "execution_count": 116,
   "id": "65f4b071",
   "metadata": {},
   "outputs": [
    {
     "data": {
      "image/png": "[encoded data removed]",
      "text/plain": [
       "<Figure size 432x288 with 1 Axes>"
      ]
     },
     "metadata": {
      "needs_background": "light"
     },
     "output_type": "display_data"
    }
   ],
   "source": [
    "# 그래프 그리기 \n",
    "\n",
    "plt.bar([2012,2013,2014,2015,2016],[wkMean2012,wkMean2013,wkMean2014,wkMean2015,wkMean2016],color='pink')\n",
    "plt.bar([2012,2013,2014,2015,2016],[nmMean2012,nmMean2013,nmMean2014,nmMean2015,nmMean2016],alpha=0.3,color='b')\n",
    "plt.title('평일, 주말에 따른 버스 승객 수')\n",
    "plt.xlabel('연도')\n",
    "plt.ylabel('평균 승객 수')\n",
    "plt.legend(['주말','평일'])\n",
    "plt.show()"
   ]
  },
  {
   "cell_type": "markdown",
   "id": "e9b4c3d6",
   "metadata": {},
   "source": [
    "# 3. 5년간 요일별 평균 버스 승객 수"
   ]
  },
  {
   "cell_type": "code",
   "execution_count": 117,
   "id": "788f077a",
   "metadata": {},
   "outputs": [],
   "source": [
    "# 요일별 버스 승객 수를 나누어 각각 리스트에 저장한다.\n",
    "Mon=[]\n",
    "Tue=[]\n",
    "Wed=[]\n",
    "Thu=[]\n",
    "Fri=[]\n",
    "Sat=[]\n",
    "Sun=[]\n",
    "for i in busDF.index:\n",
    "    if i%7==1:\n",
    "        Mon.append(busDF.iloc[i][2])\n",
    "    elif i%7==2:\n",
    "        Tue.append(busDF.iloc[i][2])\n",
    "    elif i%7==3:\n",
    "        Wed.append(busDF.iloc[i][2])\n",
    "    elif i%7==4:\n",
    "        Thu.append(busDF.iloc[i][2])   \n",
    "    elif i%7==5:\n",
    "        Fri.append(busDF.iloc[i][2])\n",
    "    elif i%7==6:\n",
    "        Sat.append(busDF.iloc[i][2])\n",
    "    elif i%7==0:\n",
    "        Sun.append(busDF.iloc[i][2])"
   ]
  },
  {
   "cell_type": "code",
   "execution_count": 118,
   "id": "fea33868",
   "metadata": {},
   "outputs": [],
   "source": [
    "# 요일별 평균 승객 수\n",
    "MonMean=round(pd.Series(Mon).mean())\n",
    "TueMean=round(pd.Series(Tue).mean())\n",
    "WedMean=round(pd.Series(Wed).mean())\n",
    "ThuMean=round(pd.Series(Thu).mean())\n",
    "FriMean=round(pd.Series(Fri).mean())\n",
    "SatMean=round(pd.Series(Sat).mean())\n",
    "SunMean=round(pd.Series(Sun).mean())"
   ]
  },
  {
   "cell_type": "code",
   "execution_count": 119,
   "id": "35181803",
   "metadata": {},
   "outputs": [
    {
     "name": "stdout",
     "output_type": "stream",
     "text": [
      "월요일 버스 평균 승객 수 : 796573\n",
      "화요일 버스 평균 승객 수 : 816492\n",
      "수요일 버스 평균 승객 수 : 822768\n",
      "목요일 버스 평균 승객 수 : 809853\n",
      "금요일 버스 평균 승객 수 : 830123\n",
      "토요일 버스 평균 승객 수 : 691031\n",
      "일요일 버스 평균 승객 수 : 503968\n"
     ]
    }
   ],
   "source": [
    "print(f'월요일 버스 평균 승객 수 : {MonMean}',\n",
    "      f'화요일 버스 평균 승객 수 : {TueMean}',\n",
    "      f'수요일 버스 평균 승객 수 : {WedMean}',\n",
    "      f'목요일 버스 평균 승객 수 : {ThuMean}',\n",
    "      f'금요일 버스 평균 승객 수 : {FriMean}',\n",
    "      f'토요일 버스 평균 승객 수 : {SatMean}',\n",
    "      f'일요일 버스 평균 승객 수 : {SunMean}',sep='\\n')"
   ]
  },
  {
   "cell_type": "code",
   "execution_count": 120,
   "id": "255afa0b",
   "metadata": {},
   "outputs": [
    {
     "data": {
      "image/png": "[encoded data removed]",
      "text/plain": [
       "<Figure size 432x288 with 1 Axes>"
      ]
     },
     "metadata": {},
     "output_type": "display_data"
    }
   ],
   "source": [
    "# 그래프 그리기\n",
    "plt.title('요일별 버스 평균 승객 수')\n",
    "plt.axis('equal')     # x,y축의 범위를 동일하게 하기\n",
    "plt.pie([MonMean,TueMean,WedMean,ThuMean,FriMean,SatMean,SunMean],\n",
    "        labels=['월','화','수','목','금','토','일'],\n",
    "        colors=['yellow','lightblue','blue','green','red','deeppink','gray'],\n",
    "        explode=(0,0,0,0,0.1,0,0.07),autopct='%.1f%%')\n",
    "plt.legend()\n",
    "plt.show()"
   ]
  },
  {
   "cell_type": "code",
   "execution_count": null,
   "id": "3a433341",
   "metadata": {},
   "outputs": [],
   "source": []
  }
 ],
 "metadata": {
  "kernelspec": {
   "display_name": "Python 3 (ipykernel)",
   "language": "python",
   "name": "python3"
  },
  "language_info": {
   "codemirror_mode": {
    "name": "ipython",
    "version": 3
   },
   "file_extension": ".py",
   "mimetype": "text/x-python",
   "name": "python",
   "nbconvert_exporter": "python",
   "pygments_lexer": "ipython3",
   "version": "3.9.12"
  }
 },
 "nbformat": 4,
 "nbformat_minor": 5
}
